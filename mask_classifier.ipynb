{
 "cells": [
  {
   "cell_type": "code",
   "execution_count": 1,
   "id": "b08aa6d8",
   "metadata": {},
   "outputs": [],
   "source": [
    "import numpy as np  # linear algebra\n",
    "import cv2 # opencv\n",
    "import matplotlib.pyplot as plt # image plotting\n",
    "# keras\n",
    "from keras import Sequential # model \n",
    "from keras.layers import Flatten, Dense # nueral layers\n",
    "from keras.applications.vgg16 import VGG16  # image classifying architecture\n",
    "from keras.preprocessing.image import ImageDataGenerator  # data generator from images"
   ]
  },
  {
   "cell_type": "code",
   "execution_count": 2,
   "id": "579c1a80",
   "metadata": {},
   "outputs": [],
   "source": [
    "train_dir = \"E:/Nueral_Model/mask/Face Mask Dataset/Train\" # directory for training images \n",
    "test_dir = \"E:/Nueral_Model/mask/Face Mask Dataset/Test\"  # directory for test images\n",
    "val_dir = \"E:/Nueral_Model/mask/Face Mask Dataset/Validation\"  # directory for validation images"
   ]
  },
  {
   "cell_type": "code",
   "execution_count": 3,
   "id": "b3be2c16",
   "metadata": {},
   "outputs": [
    {
     "name": "stdout",
     "output_type": "stream",
     "text": [
      "Found 10000 images belonging to 2 classes.\n",
      "Found 800 images belonging to 2 classes.\n",
      "Found 800 images belonging to 2 classes.\n"
     ]
    }
   ],
   "source": [
    "# Data preprocessing\n",
    "\n",
    "datagenerator = ImageDataGenerator(\n",
    "    rescale=1.0 / 255, horizontal_flip=True, zoom_range=0.2, shear_range=0.2  # recscaling the image to 1/255 , with zoom range and horizontal flip \n",
    ")\n",
    "# Train data\n",
    "train_generator = datagenerator.flow_from_directory(  # making train generator to flow data from directory in a target size of 128,128 and in a batch of 32\n",
    "    directory=train_dir, target_size=(128, 128), class_mode=\"categorical\", batch_size=32\n",
    ")\n",
    "\n",
    "# Validation data\n",
    "val_generator = datagenerator.flow_from_directory(\n",
    "    directory=val_dir, target_size=(128, 128), class_mode=\"categorical\", batch_size=32\n",
    ")\n",
    "# Test data\n",
    "test_generator = datagenerator.flow_from_directory(\n",
    "    directory=val_dir, target_size=(128, 128), class_mode=\"categorical\", batch_size=32\n",
    ")"
   ]
  },
  {
   "cell_type": "code",
   "execution_count": 4,
   "id": "00264dda",
   "metadata": {},
   "outputs": [],
   "source": [
    "# Initializing the VGG16 model\n",
    "# using the VGG 16 with the nest weights possible \"imagenet\"  in a shape of 128 ,128 \n",
    "vgg16_model = VGG16(weights=\"imagenet\", include_top=False, input_shape=(128, 128, 3)) \n",
    "for layer in vgg16_model.layers:\n",
    "    layer.trainable = False  # making the layers in the VGG 16 untrainable as it will retrain the model\n"
   ]
  },
  {
   "cell_type": "code",
   "execution_count": 5,
   "id": "747f0481",
   "metadata": {},
   "outputs": [
    {
     "name": "stdout",
     "output_type": "stream",
     "text": [
      "Model: \"sequential\"\n",
      "_________________________________________________________________\n",
      " Layer (type)                Output Shape              Param #   \n",
      "=================================================================\n",
      " vgg16 (Functional)          (None, 4, 4, 512)         14714688  \n",
      "                                                                 \n",
      " flatten (Flatten)           (None, 8192)              0         \n",
      "                                                                 \n",
      " dense (Dense)               (None, 2)                 16386     \n",
      "                                                                 \n",
      "=================================================================\n",
      "Total params: 14,731,074\n",
      "Trainable params: 16,386\n",
      "Non-trainable params: 14,714,688\n",
      "_________________________________________________________________\n"
     ]
    }
   ],
   "source": [
    "\n",
    "model1 = Sequential()  # initializing a sequential model\n",
    "model1.add(vgg16_model)  # adding vgg16 model architecture to our model \n",
    "model1.add(Flatten())  # flattening the layer\n",
    "model1.add(Dense(2, activation=\"sigmoid\"))  # adding dense layer with activation function as \"sigmoid\"\n",
    "model1.summary() # getting the summary of the model"
   ]
  },
  {
   "cell_type": "code",
   "execution_count": 6,
   "id": "0d46d128",
   "metadata": {},
   "outputs": [],
   "source": [
    "# Compiling the model with the best optimizer for the problem \n",
    "model1.compile(optimizer=\"adam\", loss=\"categorical_crossentropy\", metrics=\"accuracy\")"
   ]
  },
  {
   "cell_type": "code",
   "execution_count": 7,
   "id": "9c97c4eb",
   "metadata": {},
   "outputs": [
    {
     "name": "stdout",
     "output_type": "stream",
     "text": [
      "Epoch 1/20\n",
      "9/9 [==============================] - 159s 17s/step - loss: 0.4363 - accuracy: 0.8021\n",
      "Epoch 2/20\n",
      "9/9 [==============================] - 155s 17s/step - loss: 0.1656 - accuracy: 0.9549\n",
      "Epoch 3/20\n",
      "9/9 [==============================] - 153s 17s/step - loss: 0.1202 - accuracy: 0.9583\n",
      "Epoch 4/20\n",
      "9/9 [==============================] - 149s 17s/step - loss: 0.0902 - accuracy: 0.9688\n",
      "Epoch 5/20\n",
      "9/9 [==============================] - 148s 16s/step - loss: 0.0688 - accuracy: 0.9722\n",
      "Epoch 6/20\n",
      "9/9 [==============================] - 149s 16s/step - loss: 0.0895 - accuracy: 0.9618\n",
      "Epoch 7/20\n",
      "9/9 [==============================] - 149s 16s/step - loss: 0.0485 - accuracy: 0.9826\n",
      "Epoch 8/20\n",
      "9/9 [==============================] - 169s 19s/step - loss: 0.0433 - accuracy: 0.9896\n",
      "Epoch 9/20\n",
      "9/9 [==============================] - 151s 16s/step - loss: 0.0536 - accuracy: 0.9792\n",
      "Epoch 10/20\n",
      "9/9 [==============================] - 147s 16s/step - loss: 0.0359 - accuracy: 0.9931\n",
      "Epoch 11/20\n",
      "9/9 [==============================] - 148s 16s/step - loss: 0.0531 - accuracy: 0.9826\n",
      "Epoch 12/20\n",
      "9/9 [==============================] - 148s 16s/step - loss: 0.0424 - accuracy: 0.9861\n",
      "Epoch 13/20\n",
      "9/9 [==============================] - 543s 66s/step - loss: 0.0350 - accuracy: 0.9931\n",
      "Epoch 14/20\n",
      "9/9 [==============================] - 133s 14s/step - loss: 0.0404 - accuracy: 0.9861\n",
      "Epoch 15/20\n",
      "9/9 [==============================] - 150s 16s/step - loss: 0.0558 - accuracy: 0.9792\n",
      "Epoch 16/20\n",
      "9/9 [==============================] - 148s 16s/step - loss: 0.0425 - accuracy: 0.9826\n",
      "Epoch 17/20\n",
      "9/9 [==============================] - 148s 16s/step - loss: 0.0469 - accuracy: 0.9861\n",
      "Epoch 18/20\n",
      "9/9 [==============================] - 149s 16s/step - loss: 0.0425 - accuracy: 0.9861\n",
      "Epoch 19/20\n",
      "9/9 [==============================] - 151s 17s/step - loss: 0.0510 - accuracy: 0.9896\n",
      "Epoch 20/20\n",
      "9/9 [==============================] - 150s 16s/step - loss: 0.0325 - accuracy: 0.9931\n"
     ]
    }
   ],
   "source": [
    "# fitting or training the model and storing its training history inside model1_history \n",
    "model1_history = model1.fit(\n",
    "    train_generator, # training data \n",
    "    steps_per_epoch=len(train_generator) // 32,  # steps per epoch \n",
    "    epochs=20,                                    # total number of epoch \n",
    "    validation_data=val_generator,               # validation data\n",
    "    validation_steps=len(val_generator) // 32,   # validation steps\n",
    ")"
   ]
  },
  {
   "cell_type": "code",
   "execution_count": 9,
   "id": "f99506ba",
   "metadata": {},
   "outputs": [
    {
     "name": "stdout",
     "output_type": "stream",
     "text": [
      "25/25 [==============================] - 430s 16s/step - loss: 0.0377 - accuracy: 0.9900\n",
      "Model has a loss of 0.04 and accuracy 99.00%\n"
     ]
    }
   ],
   "source": [
    "# Evaluate model performance on test data\n",
    "model_loss, model_acc = model1.evaluate(test_generator)\n",
    "print(\"Model has a loss of %.2f and accuracy %.2f%%\" % (model_loss, model_acc*100))"
   ]
  },
  {
   "cell_type": "code",
   "execution_count": 8,
   "id": "beb938e6",
   "metadata": {},
   "outputs": [],
   "source": [
    "model1.save('./miniprojectmask.h5')"
   ]
  },
  {
   "cell_type": "code",
   "execution_count": null,
   "id": "8b374675",
   "metadata": {},
   "outputs": [],
   "source": []
  }
 ],
 "metadata": {
  "kernelspec": {
   "display_name": "Python 3 (ipykernel)",
   "language": "python",
   "name": "python3"
  },
  "language_info": {
   "codemirror_mode": {
    "name": "ipython",
    "version": 3
   },
   "file_extension": ".py",
   "mimetype": "text/x-python",
   "name": "python",
   "nbconvert_exporter": "python",
   "pygments_lexer": "ipython3",
   "version": "3.8.10"
  }
 },
 "nbformat": 4,
 "nbformat_minor": 5
}
